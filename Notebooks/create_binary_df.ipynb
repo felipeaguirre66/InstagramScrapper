{
 "cells": [
  {
   "cell_type": "markdown",
   "id": "2ad7a450",
   "metadata": {},
   "source": [
    "# Creates df with usuarios in columns and seguidos in rows, filled with True when coincidence."
   ]
  },
  {
   "cell_type": "code",
   "execution_count": 76,
   "id": "a9d1c402",
   "metadata": {},
   "outputs": [],
   "source": [
    "import pandas as pd\n",
    "import os"
   ]
  },
  {
   "cell_type": "code",
   "execution_count": 77,
   "id": "b9bafaf9",
   "metadata": {},
   "outputs": [],
   "source": [
    "df = pd.read_excel('../Results/senadores seguidos.xlsx')"
   ]
  },
  {
   "cell_type": "code",
   "execution_count": 78,
   "id": "39e38ec8",
   "metadata": {},
   "outputs": [],
   "source": [
    "# Unique values in all df\n",
    "column_values = df.values.ravel()\n",
    "all_values = pd.unique(column_values)"
   ]
  },
  {
   "cell_type": "code",
   "execution_count": 79,
   "id": "517d0279",
   "metadata": {},
   "outputs": [],
   "source": [
    "# Instanciamos el df final\n",
    "df_final = df.reindex(all_values)\n",
    "df_final.fillna(False, inplace=True)"
   ]
  },
  {
   "cell_type": "code",
   "execution_count": 80,
   "id": "5fbd8252",
   "metadata": {},
   "outputs": [],
   "source": [
    "# colocamos True en las intersecciones con coincidencia\n",
    "for col in df.columns:\n",
    "    for val in df[col].values:\n",
    "        if val == val: #is not nan\n",
    "            df_final[col][val] = True"
   ]
  },
  {
   "cell_type": "code",
   "execution_count": 89,
   "id": "fba5d2c1",
   "metadata": {},
   "outputs": [],
   "source": [
    "# Guardado\n",
    "os.chdir('../Results')\n",
    "df_final.to_excel(\"senadores seguidos binario.xlsx\")"
   ]
  }
 ],
 "metadata": {
  "kernelspec": {
   "display_name": "Python 3 (ipykernel)",
   "language": "python",
   "name": "python3"
  },
  "language_info": {
   "codemirror_mode": {
    "name": "ipython",
    "version": 3
   },
   "file_extension": ".py",
   "mimetype": "text/x-python",
   "name": "python",
   "nbconvert_exporter": "python",
   "pygments_lexer": "ipython3",
   "version": "3.9.12"
  }
 },
 "nbformat": 4,
 "nbformat_minor": 5
}
