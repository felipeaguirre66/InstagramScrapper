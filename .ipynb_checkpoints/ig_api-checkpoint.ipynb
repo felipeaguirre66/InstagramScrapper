{
 "cells": [
  {
   "cell_type": "code",
   "execution_count": 1,
   "id": "f8d8577e",
   "metadata": {},
   "outputs": [
    {
     "name": "stdout",
     "output_type": "stream",
     "text": [
      "Requirement already satisfied: instagrapi in c:\\users\\felipe\\miniconda3\\lib\\site-packages (1.16.27)\n",
      "Requirement already satisfied: requests<3.0,>=2.25.1 in c:\\users\\felipe\\miniconda3\\lib\\site-packages (from instagrapi) (2.28.1)\n",
      "Requirement already satisfied: pydantic==1.9.1 in c:\\users\\felipe\\miniconda3\\lib\\site-packages (from instagrapi) (1.9.1)\n",
      "Requirement already satisfied: PySocks==1.7.1 in c:\\users\\felipe\\miniconda3\\lib\\site-packages (from instagrapi) (1.7.1)\n",
      "Requirement already satisfied: pycryptodomex==3.15.0 in c:\\users\\felipe\\miniconda3\\lib\\site-packages (from instagrapi) (3.15.0)\n",
      "Requirement already satisfied: typing-extensions>=3.7.4.3 in c:\\users\\felipe\\miniconda3\\lib\\site-packages (from pydantic==1.9.1->instagrapi) (4.1.1)\n",
      "Requirement already satisfied: certifi>=2017.4.17 in c:\\users\\felipe\\miniconda3\\lib\\site-packages (from requests<3.0,>=2.25.1->instagrapi) (2022.6.15)\n",
      "Requirement already satisfied: charset-normalizer<3,>=2 in c:\\users\\felipe\\miniconda3\\lib\\site-packages (from requests<3.0,>=2.25.1->instagrapi) (2.0.4)\n",
      "Requirement already satisfied: idna<4,>=2.5 in c:\\users\\felipe\\miniconda3\\lib\\site-packages (from requests<3.0,>=2.25.1->instagrapi) (3.3)\n",
      "Requirement already satisfied: urllib3<1.27,>=1.21.1 in c:\\users\\felipe\\miniconda3\\lib\\site-packages (from requests<3.0,>=2.25.1->instagrapi) (1.26.9)\n",
      "Requirement already satisfied: Pillow in c:\\users\\felipe\\miniconda3\\lib\\site-packages (9.2.0)\n"
     ]
    }
   ],
   "source": [
    "# Imports\n",
    "!pip install instagrapi\n",
    "!pip install Pillow\n",
    "from instagrapi import Client\n",
    "import time\n",
    "from time import sleep\n",
    "import re"
   ]
  },
  {
   "cell_type": "code",
   "execution_count": 2,
   "id": "b5cf6417",
   "metadata": {},
   "outputs": [],
   "source": [
    "# Credenciales\n",
    "user = \"proyectoredargentina\"\n",
    "password = \"redinstagram2022\"\n",
    "\n",
    "settings = {'uuids': {'phone_id': '98da6f3b-81e6-45a1-affc-1d916482eb75',\n",
    "  'uuid': '65ea9cda-01e7-4611-936f-ca51f5ef9b4a',\n",
    "  'client_session_id': 'd27871fa-66f6-470f-a927-8f6fb0078e0a',\n",
    "  'advertising_id': '95217da6-946d-490f-a050-e1f22ad84e6b',\n",
    "  'android_device_id': 'android-b37396e52acb7d22',\n",
    "  'request_id': 'f8ada33e-3b32-4443-9d52-215f20541a9b',\n",
    "  'tray_session_id': 'd8ebd4f5-75b8-4eed-9d2a-5df9a3795316'},\n",
    " 'mid': 'YtHL2AABAAGplcnBO2KlaOzzIr0a',\n",
    " 'ig_u_rur': None,\n",
    " 'ig_www_claim': None,\n",
    " 'authorization_data': {'ds_user_id': '54125532390',\n",
    "  'sessionid': '54125532390%3AMgRajBTX3p8uMY%3A7%3AAYdOjlJhUIVth-sKRMqXNz8itewum7gn98ufonkoDQ'},\n",
    " 'cookies': {},\n",
    " 'last_login': 1657916382.8613837,\n",
    " 'device_settings': {'app_version': '203.0.0.29.118',\n",
    "  'android_version': 26,\n",
    "  'android_release': '8.0.0',\n",
    "  'dpi': '480dpi',\n",
    "  'resolution': '1080x1920',\n",
    "  'manufacturer': 'Xiaomi',\n",
    "  'device': 'capricorn',\n",
    "  'model': 'MI 5s',\n",
    "  'cpu': 'qcom',\n",
    "  'version_code': '314665256'},\n",
    " 'user_agent': 'Instagram 203.0.0.29.118 Android (26/8.0.0; 480dpi; 1080x1920; Xiaomi; MI 5s; capricorn; qcom; en_US; 314665256)',\n",
    " 'country': 'US',\n",
    " 'country_code': 1,\n",
    " 'locale': 'en_US',\n",
    " 'timezone_offset': -14400,\n",
    " 'accept': 'text/html,application/xhtml+xml,application/xml;q=0.9,image/avif,image/webp,image/apng,*/*;q=0.8,application/signed-exchange;v=b3;q=0.9',\n",
    " 'upgrade-insecure-requests': '1',\n",
    " 'accept-encoding': 'gzip, deflate, br',\n",
    " 'accept-language': 'en-US,en;q=0.9,en;q=0.8'\n",
    " }"
   ]
  },
  {
   "cell_type": "code",
   "execution_count": 7,
   "id": "48ecee4c",
   "metadata": {},
   "outputs": [],
   "source": [
    "from instagrapi.exceptions import (\n",
    "    BadPassword, ReloginAttemptExceeded, ChallengeRequired,\n",
    "    SelectContactPointRecoveryForm, RecaptchaChallengeForm,\n",
    "    FeedbackRequired, PleaseWaitFewMinutes, LoginRequired\n",
    ")"
   ]
  },
  {
   "cell_type": "code",
   "execution_count": 8,
   "id": "81090f33",
   "metadata": {},
   "outputs": [
    {
     "data": {
      "text/plain": [
       "True"
      ]
     },
     "execution_count": 8,
     "metadata": {},
     "output_type": "execute_result"
    }
   ],
   "source": [
    "# Login (en un try para no logearnos inneceriamente de nuevo)\n",
    "cl = Client(settings = settings)\n",
    "cl.login(user, password)"
   ]
  },
  {
   "cell_type": "code",
   "execution_count": 9,
   "id": "75a34db1",
   "metadata": {},
   "outputs": [],
   "source": [
    "# usuario de ejemplo\n",
    "usuario_ejemplo = 'mati_codo'"
   ]
  },
  {
   "cell_type": "code",
   "execution_count": 10,
   "id": "ef95f624",
   "metadata": {},
   "outputs": [],
   "source": [
    "# Seguidores\n",
    "def obtener_seguidores(usuario_interes):\n",
    "    userId = cl.user_id_from_username(usuario_interes) # Id del usuario de ejemplo\n",
    "    cantidad_seguidores = len(cl.user_followers(userId).keys())\n",
    "    print(f'La cantidad de seguidores es: {cantidad_seguidores}\\n\\n')\n",
    "    seguidores_dict = cl.user_followers(userId)\n",
    "    return re.findall(\"username='(.+?)'\",str(seguidores_dict.values()))"
   ]
  },
  {
   "cell_type": "code",
   "execution_count": 11,
   "id": "9f5d95f6",
   "metadata": {
    "collapsed": true
   },
   "outputs": [
    {
     "ename": "LoginRequired",
     "evalue": "login_required",
     "output_type": "error",
     "traceback": [
      "\u001b[1;31m---------------------------------------------------------------------------\u001b[0m",
      "\u001b[1;31mJSONDecodeError\u001b[0m                           Traceback (most recent call last)",
      "File \u001b[1;32m~\\miniconda3\\lib\\site-packages\\requests\\models.py:971\u001b[0m, in \u001b[0;36mResponse.json\u001b[1;34m(self, **kwargs)\u001b[0m\n\u001b[0;32m    970\u001b[0m \u001b[38;5;28;01mtry\u001b[39;00m:\n\u001b[1;32m--> 971\u001b[0m     \u001b[38;5;28;01mreturn\u001b[39;00m complexjson\u001b[38;5;241m.\u001b[39mloads(\u001b[38;5;28mself\u001b[39m\u001b[38;5;241m.\u001b[39mtext, \u001b[38;5;241m*\u001b[39m\u001b[38;5;241m*\u001b[39mkwargs)\n\u001b[0;32m    972\u001b[0m \u001b[38;5;28;01mexcept\u001b[39;00m JSONDecodeError \u001b[38;5;28;01mas\u001b[39;00m e:\n\u001b[0;32m    973\u001b[0m     \u001b[38;5;66;03m# Catch JSON-related errors and raise as requests.JSONDecodeError\u001b[39;00m\n\u001b[0;32m    974\u001b[0m     \u001b[38;5;66;03m# This aliases json.JSONDecodeError and simplejson.JSONDecodeError\u001b[39;00m\n",
      "File \u001b[1;32m~\\miniconda3\\lib\\json\\__init__.py:346\u001b[0m, in \u001b[0;36mloads\u001b[1;34m(s, cls, object_hook, parse_float, parse_int, parse_constant, object_pairs_hook, **kw)\u001b[0m\n\u001b[0;32m    343\u001b[0m \u001b[38;5;28;01mif\u001b[39;00m (\u001b[38;5;28mcls\u001b[39m \u001b[38;5;129;01mis\u001b[39;00m \u001b[38;5;28;01mNone\u001b[39;00m \u001b[38;5;129;01mand\u001b[39;00m object_hook \u001b[38;5;129;01mis\u001b[39;00m \u001b[38;5;28;01mNone\u001b[39;00m \u001b[38;5;129;01mand\u001b[39;00m\n\u001b[0;32m    344\u001b[0m         parse_int \u001b[38;5;129;01mis\u001b[39;00m \u001b[38;5;28;01mNone\u001b[39;00m \u001b[38;5;129;01mand\u001b[39;00m parse_float \u001b[38;5;129;01mis\u001b[39;00m \u001b[38;5;28;01mNone\u001b[39;00m \u001b[38;5;129;01mand\u001b[39;00m\n\u001b[0;32m    345\u001b[0m         parse_constant \u001b[38;5;129;01mis\u001b[39;00m \u001b[38;5;28;01mNone\u001b[39;00m \u001b[38;5;129;01mand\u001b[39;00m object_pairs_hook \u001b[38;5;129;01mis\u001b[39;00m \u001b[38;5;28;01mNone\u001b[39;00m \u001b[38;5;129;01mand\u001b[39;00m \u001b[38;5;129;01mnot\u001b[39;00m kw):\n\u001b[1;32m--> 346\u001b[0m     \u001b[38;5;28;01mreturn\u001b[39;00m \u001b[43m_default_decoder\u001b[49m\u001b[38;5;241;43m.\u001b[39;49m\u001b[43mdecode\u001b[49m\u001b[43m(\u001b[49m\u001b[43ms\u001b[49m\u001b[43m)\u001b[49m\n\u001b[0;32m    347\u001b[0m \u001b[38;5;28;01mif\u001b[39;00m \u001b[38;5;28mcls\u001b[39m \u001b[38;5;129;01mis\u001b[39;00m \u001b[38;5;28;01mNone\u001b[39;00m:\n",
      "File \u001b[1;32m~\\miniconda3\\lib\\json\\decoder.py:337\u001b[0m, in \u001b[0;36mJSONDecoder.decode\u001b[1;34m(self, s, _w)\u001b[0m\n\u001b[0;32m    333\u001b[0m \u001b[38;5;124;03m\"\"\"Return the Python representation of ``s`` (a ``str`` instance\u001b[39;00m\n\u001b[0;32m    334\u001b[0m \u001b[38;5;124;03mcontaining a JSON document).\u001b[39;00m\n\u001b[0;32m    335\u001b[0m \n\u001b[0;32m    336\u001b[0m \u001b[38;5;124;03m\"\"\"\u001b[39;00m\n\u001b[1;32m--> 337\u001b[0m obj, end \u001b[38;5;241m=\u001b[39m \u001b[38;5;28;43mself\u001b[39;49m\u001b[38;5;241;43m.\u001b[39;49m\u001b[43mraw_decode\u001b[49m\u001b[43m(\u001b[49m\u001b[43ms\u001b[49m\u001b[43m,\u001b[49m\u001b[43m \u001b[49m\u001b[43midx\u001b[49m\u001b[38;5;241;43m=\u001b[39;49m\u001b[43m_w\u001b[49m\u001b[43m(\u001b[49m\u001b[43ms\u001b[49m\u001b[43m,\u001b[49m\u001b[43m \u001b[49m\u001b[38;5;241;43m0\u001b[39;49m\u001b[43m)\u001b[49m\u001b[38;5;241;43m.\u001b[39;49m\u001b[43mend\u001b[49m\u001b[43m(\u001b[49m\u001b[43m)\u001b[49m\u001b[43m)\u001b[49m\n\u001b[0;32m    338\u001b[0m end \u001b[38;5;241m=\u001b[39m _w(s, end)\u001b[38;5;241m.\u001b[39mend()\n",
      "File \u001b[1;32m~\\miniconda3\\lib\\json\\decoder.py:355\u001b[0m, in \u001b[0;36mJSONDecoder.raw_decode\u001b[1;34m(self, s, idx)\u001b[0m\n\u001b[0;32m    354\u001b[0m \u001b[38;5;28;01mexcept\u001b[39;00m \u001b[38;5;167;01mStopIteration\u001b[39;00m \u001b[38;5;28;01mas\u001b[39;00m err:\n\u001b[1;32m--> 355\u001b[0m     \u001b[38;5;28;01mraise\u001b[39;00m JSONDecodeError(\u001b[38;5;124m\"\u001b[39m\u001b[38;5;124mExpecting value\u001b[39m\u001b[38;5;124m\"\u001b[39m, s, err\u001b[38;5;241m.\u001b[39mvalue) \u001b[38;5;28;01mfrom\u001b[39;00m \u001b[38;5;28mNone\u001b[39m\n\u001b[0;32m    356\u001b[0m \u001b[38;5;28;01mreturn\u001b[39;00m obj, end\n",
      "\u001b[1;31mJSONDecodeError\u001b[0m: Expecting value: line 1 column 1 (char 0)",
      "\nDuring handling of the above exception, another exception occurred:\n",
      "\u001b[1;31mJSONDecodeError\u001b[0m                           Traceback (most recent call last)",
      "File \u001b[1;32m~\\miniconda3\\lib\\site-packages\\instagrapi\\mixins\\public.py:132\u001b[0m, in \u001b[0;36mPublicRequestMixin._send_public_request\u001b[1;34m(self, url, data, params, headers, return_json)\u001b[0m\n\u001b[0;32m    131\u001b[0m \u001b[38;5;28;01mif\u001b[39;00m return_json:\n\u001b[1;32m--> 132\u001b[0m     \u001b[38;5;28mself\u001b[39m\u001b[38;5;241m.\u001b[39mlast_public_json \u001b[38;5;241m=\u001b[39m \u001b[43mresponse\u001b[49m\u001b[38;5;241;43m.\u001b[39;49m\u001b[43mjson\u001b[49m\u001b[43m(\u001b[49m\u001b[43m)\u001b[49m\n\u001b[0;32m    133\u001b[0m     \u001b[38;5;28;01mreturn\u001b[39;00m \u001b[38;5;28mself\u001b[39m\u001b[38;5;241m.\u001b[39mlast_public_json\n",
      "File \u001b[1;32m~\\miniconda3\\lib\\site-packages\\requests\\models.py:975\u001b[0m, in \u001b[0;36mResponse.json\u001b[1;34m(self, **kwargs)\u001b[0m\n\u001b[0;32m    972\u001b[0m \u001b[38;5;28;01mexcept\u001b[39;00m JSONDecodeError \u001b[38;5;28;01mas\u001b[39;00m e:\n\u001b[0;32m    973\u001b[0m     \u001b[38;5;66;03m# Catch JSON-related errors and raise as requests.JSONDecodeError\u001b[39;00m\n\u001b[0;32m    974\u001b[0m     \u001b[38;5;66;03m# This aliases json.JSONDecodeError and simplejson.JSONDecodeError\u001b[39;00m\n\u001b[1;32m--> 975\u001b[0m     \u001b[38;5;28;01mraise\u001b[39;00m RequestsJSONDecodeError(e\u001b[38;5;241m.\u001b[39mmsg, e\u001b[38;5;241m.\u001b[39mdoc, e\u001b[38;5;241m.\u001b[39mpos)\n",
      "\u001b[1;31mJSONDecodeError\u001b[0m: Expecting value: line 1 column 1 (char 0)",
      "\nDuring handling of the above exception, another exception occurred:\n",
      "\u001b[1;31mClientLoginRequired\u001b[0m                       Traceback (most recent call last)",
      "File \u001b[1;32m~\\miniconda3\\lib\\site-packages\\instagrapi\\mixins\\user.py:193\u001b[0m, in \u001b[0;36mUserMixin.user_info_by_username\u001b[1;34m(self, username, use_cache)\u001b[0m\n\u001b[0;32m    192\u001b[0m             \u001b[38;5;28;01mraise\u001b[39;00m e\n\u001b[1;32m--> 193\u001b[0m         user \u001b[38;5;241m=\u001b[39m \u001b[38;5;28;43mself\u001b[39;49m\u001b[38;5;241;43m.\u001b[39;49m\u001b[43muser_info_by_username_gql\u001b[49m\u001b[43m(\u001b[49m\u001b[43musername\u001b[49m\u001b[43m)\u001b[49m  \u001b[38;5;66;03m# retry\u001b[39;00m\n\u001b[0;32m    194\u001b[0m \u001b[38;5;28;01mexcept\u001b[39;00m \u001b[38;5;167;01mException\u001b[39;00m \u001b[38;5;28;01mas\u001b[39;00m e:\n",
      "File \u001b[1;32m~\\miniconda3\\lib\\site-packages\\instagrapi\\mixins\\user.py:142\u001b[0m, in \u001b[0;36mUserMixin.user_info_by_username_gql\u001b[1;34m(self, username)\u001b[0m\n\u001b[0;32m    141\u001b[0m username \u001b[38;5;241m=\u001b[39m \u001b[38;5;28mstr\u001b[39m(username)\u001b[38;5;241m.\u001b[39mlower()\n\u001b[1;32m--> 142\u001b[0m \u001b[38;5;28;01mreturn\u001b[39;00m extract_user_gql(\u001b[38;5;28;43mself\u001b[39;49m\u001b[38;5;241;43m.\u001b[39;49m\u001b[43mpublic_a1_request\u001b[49m\u001b[43m(\u001b[49m\u001b[38;5;124;43mf\u001b[39;49m\u001b[38;5;124;43m\"\u001b[39;49m\u001b[38;5;124;43m/\u001b[39;49m\u001b[38;5;132;43;01m{\u001b[39;49;00m\u001b[43musername\u001b[49m\u001b[38;5;132;43;01m!s}\u001b[39;49;00m\u001b[38;5;124;43m/\u001b[39;49m\u001b[38;5;124;43m\"\u001b[39;49m\u001b[43m)\u001b[49m[\u001b[38;5;124m\"\u001b[39m\u001b[38;5;124muser\u001b[39m\u001b[38;5;124m\"\u001b[39m])\n",
      "File \u001b[1;32m~\\miniconda3\\lib\\site-packages\\instagrapi\\mixins\\public.py:173\u001b[0m, in \u001b[0;36mPublicRequestMixin.public_a1_request\u001b[1;34m(self, endpoint, data, params, headers)\u001b[0m\n\u001b[0;32m    171\u001b[0m params\u001b[38;5;241m.\u001b[39mupdate({\u001b[38;5;124m\"\u001b[39m\u001b[38;5;124m__a\u001b[39m\u001b[38;5;124m\"\u001b[39m: \u001b[38;5;241m1\u001b[39m, \u001b[38;5;124m'\u001b[39m\u001b[38;5;124m__d\u001b[39m\u001b[38;5;124m'\u001b[39m: \u001b[38;5;124m'\u001b[39m\u001b[38;5;124mdis\u001b[39m\u001b[38;5;124m'\u001b[39m})\n\u001b[1;32m--> 173\u001b[0m response \u001b[38;5;241m=\u001b[39m \u001b[38;5;28;43mself\u001b[39;49m\u001b[38;5;241;43m.\u001b[39;49m\u001b[43mpublic_request\u001b[49m\u001b[43m(\u001b[49m\n\u001b[0;32m    174\u001b[0m \u001b[43m    \u001b[49m\u001b[43murl\u001b[49m\u001b[43m,\u001b[49m\u001b[43m \u001b[49m\u001b[43mdata\u001b[49m\u001b[38;5;241;43m=\u001b[39;49m\u001b[43mdata\u001b[49m\u001b[43m,\u001b[49m\u001b[43m \u001b[49m\u001b[43mparams\u001b[49m\u001b[38;5;241;43m=\u001b[39;49m\u001b[43mparams\u001b[49m\u001b[43m,\u001b[49m\u001b[43m \u001b[49m\u001b[43mheaders\u001b[49m\u001b[38;5;241;43m=\u001b[39;49m\u001b[43mheaders\u001b[49m\u001b[43m,\u001b[49m\u001b[43m \u001b[49m\u001b[43mreturn_json\u001b[49m\u001b[38;5;241;43m=\u001b[39;49m\u001b[38;5;28;43;01mTrue\u001b[39;49;00m\n\u001b[0;32m    175\u001b[0m \u001b[43m\u001b[49m\u001b[43m)\u001b[49m\n\u001b[0;32m    176\u001b[0m \u001b[38;5;28;01mtry\u001b[39;00m:\n",
      "File \u001b[1;32m~\\miniconda3\\lib\\site-packages\\instagrapi\\mixins\\public.py:76\u001b[0m, in \u001b[0;36mPublicRequestMixin.public_request\u001b[1;34m(self, url, data, params, headers, return_json, retries_count, retries_timeout)\u001b[0m\n\u001b[0;32m     75\u001b[0m \u001b[38;5;28;01mexcept\u001b[39;00m (ClientLoginRequired, ClientNotFoundError, ClientBadRequestError) \u001b[38;5;28;01mas\u001b[39;00m e:\n\u001b[1;32m---> 76\u001b[0m     \u001b[38;5;28;01mraise\u001b[39;00m e  \u001b[38;5;66;03m# Stop retries\u001b[39;00m\n\u001b[0;32m     77\u001b[0m \u001b[38;5;66;03m# except JSONDecodeError as e:\u001b[39;00m\n\u001b[0;32m     78\u001b[0m \u001b[38;5;66;03m#     raise ClientJSONDecodeError(e, respones=self.last_public_response)\u001b[39;00m\n",
      "File \u001b[1;32m~\\miniconda3\\lib\\site-packages\\instagrapi\\mixins\\public.py:74\u001b[0m, in \u001b[0;36mPublicRequestMixin.public_request\u001b[1;34m(self, url, data, params, headers, return_json, retries_count, retries_timeout)\u001b[0m\n\u001b[0;32m     73\u001b[0m         random_delay(delay_range\u001b[38;5;241m=\u001b[39m\u001b[38;5;28mself\u001b[39m\u001b[38;5;241m.\u001b[39mdelay_range)\n\u001b[1;32m---> 74\u001b[0m     \u001b[38;5;28;01mreturn\u001b[39;00m \u001b[38;5;28mself\u001b[39m\u001b[38;5;241m.\u001b[39m_send_public_request(url, \u001b[38;5;241m*\u001b[39m\u001b[38;5;241m*\u001b[39mkwargs)\n\u001b[0;32m     75\u001b[0m \u001b[38;5;28;01mexcept\u001b[39;00m (ClientLoginRequired, ClientNotFoundError, ClientBadRequestError) \u001b[38;5;28;01mas\u001b[39;00m e:\n",
      "File \u001b[1;32m~\\miniconda3\\lib\\site-packages\\instagrapi\\mixins\\public.py:138\u001b[0m, in \u001b[0;36mPublicRequestMixin._send_public_request\u001b[1;34m(self, url, data, params, headers, return_json)\u001b[0m\n\u001b[0;32m    137\u001b[0m \u001b[38;5;28;01mif\u001b[39;00m \u001b[38;5;124m\"\u001b[39m\u001b[38;5;124m/login/\u001b[39m\u001b[38;5;124m\"\u001b[39m \u001b[38;5;129;01min\u001b[39;00m response\u001b[38;5;241m.\u001b[39murl:\n\u001b[1;32m--> 138\u001b[0m     \u001b[38;5;28;01mraise\u001b[39;00m ClientLoginRequired(e, response\u001b[38;5;241m=\u001b[39mresponse)\n\u001b[0;32m    140\u001b[0m \u001b[38;5;28mself\u001b[39m\u001b[38;5;241m.\u001b[39mrequest_logger\u001b[38;5;241m.\u001b[39merror(\n\u001b[0;32m    141\u001b[0m     \u001b[38;5;124m\"\u001b[39m\u001b[38;5;124mStatus \u001b[39m\u001b[38;5;132;01m%s\u001b[39;00m\u001b[38;5;124m: JSONDecodeError in public_request (url=\u001b[39m\u001b[38;5;132;01m%s\u001b[39;00m\u001b[38;5;124m) >>> \u001b[39m\u001b[38;5;132;01m%s\u001b[39;00m\u001b[38;5;124m\"\u001b[39m,\n\u001b[0;32m    142\u001b[0m     response\u001b[38;5;241m.\u001b[39mstatus_code,\n\u001b[0;32m    143\u001b[0m     response\u001b[38;5;241m.\u001b[39murl,\n\u001b[0;32m    144\u001b[0m     response\u001b[38;5;241m.\u001b[39mtext,\n\u001b[0;32m    145\u001b[0m )\n",
      "\u001b[1;31mClientLoginRequired\u001b[0m: Expecting value: line 1 column 1 (char 0)",
      "\nDuring handling of the above exception, another exception occurred:\n",
      "\u001b[1;31mHTTPError\u001b[0m                                 Traceback (most recent call last)",
      "File \u001b[1;32m~\\miniconda3\\lib\\site-packages\\instagrapi\\mixins\\private.py:298\u001b[0m, in \u001b[0;36mPrivateRequestMixin._send_private_request\u001b[1;34m(self, endpoint, data, params, login, with_signature, headers, extra_sig)\u001b[0m\n\u001b[0;32m    297\u001b[0m \u001b[38;5;28mself\u001b[39m\u001b[38;5;241m.\u001b[39mlast_response \u001b[38;5;241m=\u001b[39m response\n\u001b[1;32m--> 298\u001b[0m \u001b[43mresponse\u001b[49m\u001b[38;5;241;43m.\u001b[39;49m\u001b[43mraise_for_status\u001b[49m\u001b[43m(\u001b[49m\u001b[43m)\u001b[49m\n\u001b[0;32m    299\u001b[0m \u001b[38;5;66;03m# last_json - for Sentry context in traceback\u001b[39;00m\n",
      "File \u001b[1;32m~\\miniconda3\\lib\\site-packages\\requests\\models.py:1021\u001b[0m, in \u001b[0;36mResponse.raise_for_status\u001b[1;34m(self)\u001b[0m\n\u001b[0;32m   1020\u001b[0m \u001b[38;5;28;01mif\u001b[39;00m http_error_msg:\n\u001b[1;32m-> 1021\u001b[0m     \u001b[38;5;28;01mraise\u001b[39;00m HTTPError(http_error_msg, response\u001b[38;5;241m=\u001b[39m\u001b[38;5;28mself\u001b[39m)\n",
      "\u001b[1;31mHTTPError\u001b[0m: 403 Client Error: Forbidden for url: https://i.instagram.com/api/v1/users/mati_codo/usernameinfo/",
      "\nDuring handling of the above exception, another exception occurred:\n",
      "\u001b[1;31mLoginRequired\u001b[0m                             Traceback (most recent call last)",
      "Input \u001b[1;32mIn [11]\u001b[0m, in \u001b[0;36m<cell line: 1>\u001b[1;34m()\u001b[0m\n\u001b[1;32m----> 1\u001b[0m \u001b[43mobtener_seguidores\u001b[49m\u001b[43m(\u001b[49m\u001b[38;5;124;43m'\u001b[39;49m\u001b[38;5;124;43mmati_codo\u001b[39;49m\u001b[38;5;124;43m'\u001b[39;49m\u001b[43m)\u001b[49m\n",
      "Input \u001b[1;32mIn [10]\u001b[0m, in \u001b[0;36mobtener_seguidores\u001b[1;34m(usuario_interes)\u001b[0m\n\u001b[0;32m      2\u001b[0m \u001b[38;5;28;01mdef\u001b[39;00m \u001b[38;5;21mobtener_seguidores\u001b[39m(usuario_interes):\n\u001b[1;32m----> 3\u001b[0m     userId \u001b[38;5;241m=\u001b[39m \u001b[43mcl\u001b[49m\u001b[38;5;241;43m.\u001b[39;49m\u001b[43muser_id_from_username\u001b[49m\u001b[43m(\u001b[49m\u001b[43musuario_interes\u001b[49m\u001b[43m)\u001b[49m \u001b[38;5;66;03m# Id del usuario de ejemplo\u001b[39;00m\n\u001b[0;32m      4\u001b[0m     cantidad_seguidores \u001b[38;5;241m=\u001b[39m \u001b[38;5;28mlen\u001b[39m(cl\u001b[38;5;241m.\u001b[39muser_followers(userId)\u001b[38;5;241m.\u001b[39mkeys())\n\u001b[0;32m      5\u001b[0m     \u001b[38;5;28mprint\u001b[39m(\u001b[38;5;124mf\u001b[39m\u001b[38;5;124m'\u001b[39m\u001b[38;5;124mLa cantidad de seguidores es: \u001b[39m\u001b[38;5;132;01m{\u001b[39;00mcantidad_seguidores\u001b[38;5;132;01m}\u001b[39;00m\u001b[38;5;130;01m\\n\u001b[39;00m\u001b[38;5;130;01m\\n\u001b[39;00m\u001b[38;5;124m'\u001b[39m)\n",
      "File \u001b[1;32m~\\miniconda3\\lib\\site-packages\\instagrapi\\mixins\\user.py:47\u001b[0m, in \u001b[0;36mUserMixin.user_id_from_username\u001b[1;34m(self, username)\u001b[0m\n\u001b[0;32m     29\u001b[0m \u001b[38;5;124;03m\"\"\"\u001b[39;00m\n\u001b[0;32m     30\u001b[0m \u001b[38;5;124;03mGet full media id\u001b[39;00m\n\u001b[0;32m     31\u001b[0m \n\u001b[1;32m   (...)\u001b[0m\n\u001b[0;32m     44\u001b[0m \u001b[38;5;124;03m'adw0rd' -> 1903424587\u001b[39;00m\n\u001b[0;32m     45\u001b[0m \u001b[38;5;124;03m\"\"\"\u001b[39;00m\n\u001b[0;32m     46\u001b[0m username \u001b[38;5;241m=\u001b[39m \u001b[38;5;28mstr\u001b[39m(username)\u001b[38;5;241m.\u001b[39mlower()\n\u001b[1;32m---> 47\u001b[0m \u001b[38;5;28;01mreturn\u001b[39;00m \u001b[38;5;28mstr\u001b[39m(\u001b[38;5;28;43mself\u001b[39;49m\u001b[38;5;241;43m.\u001b[39;49m\u001b[43muser_info_by_username\u001b[49m\u001b[43m(\u001b[49m\u001b[43musername\u001b[49m\u001b[43m)\u001b[49m\u001b[38;5;241m.\u001b[39mpk)\n",
      "File \u001b[1;32m~\\miniconda3\\lib\\site-packages\\instagrapi\\mixins\\user.py:197\u001b[0m, in \u001b[0;36mUserMixin.user_info_by_username\u001b[1;34m(self, username, use_cache)\u001b[0m\n\u001b[0;32m    195\u001b[0m     \u001b[38;5;28;01mif\u001b[39;00m \u001b[38;5;129;01mnot\u001b[39;00m \u001b[38;5;28misinstance\u001b[39m(e, ClientError):\n\u001b[0;32m    196\u001b[0m         \u001b[38;5;28mself\u001b[39m\u001b[38;5;241m.\u001b[39mlogger\u001b[38;5;241m.\u001b[39mexception(e)  \u001b[38;5;66;03m# Register unknown error\u001b[39;00m\n\u001b[1;32m--> 197\u001b[0m     user \u001b[38;5;241m=\u001b[39m \u001b[38;5;28;43mself\u001b[39;49m\u001b[38;5;241;43m.\u001b[39;49m\u001b[43muser_info_by_username_v1\u001b[49m\u001b[43m(\u001b[49m\u001b[43musername\u001b[49m\u001b[43m)\u001b[49m\n\u001b[0;32m    198\u001b[0m \u001b[38;5;28mself\u001b[39m\u001b[38;5;241m.\u001b[39m_users_cache[user\u001b[38;5;241m.\u001b[39mpk] \u001b[38;5;241m=\u001b[39m user\n\u001b[0;32m    199\u001b[0m \u001b[38;5;28mself\u001b[39m\u001b[38;5;241m.\u001b[39m_usernames_cache[user\u001b[38;5;241m.\u001b[39musername] \u001b[38;5;241m=\u001b[39m user\u001b[38;5;241m.\u001b[39mpk\n",
      "File \u001b[1;32m~\\miniconda3\\lib\\site-packages\\instagrapi\\mixins\\user.py:166\u001b[0m, in \u001b[0;36mUserMixin.user_info_by_username_v1\u001b[1;34m(self, username)\u001b[0m\n\u001b[0;32m    164\u001b[0m     \u001b[38;5;28;01mif\u001b[39;00m \u001b[38;5;124m\"\u001b[39m\u001b[38;5;124mUser not found\u001b[39m\u001b[38;5;124m\"\u001b[39m \u001b[38;5;129;01min\u001b[39;00m \u001b[38;5;28mstr\u001b[39m(e):\n\u001b[0;32m    165\u001b[0m         \u001b[38;5;28;01mraise\u001b[39;00m UserNotFound(e, username\u001b[38;5;241m=\u001b[39musername, \u001b[38;5;241m*\u001b[39m\u001b[38;5;241m*\u001b[39m\u001b[38;5;28mself\u001b[39m\u001b[38;5;241m.\u001b[39mlast_json)\n\u001b[1;32m--> 166\u001b[0m     \u001b[38;5;28;01mraise\u001b[39;00m e\n\u001b[0;32m    167\u001b[0m \u001b[38;5;28;01mreturn\u001b[39;00m extract_user_v1(result[\u001b[38;5;124m\"\u001b[39m\u001b[38;5;124muser\u001b[39m\u001b[38;5;124m\"\u001b[39m])\n",
      "File \u001b[1;32m~\\miniconda3\\lib\\site-packages\\instagrapi\\mixins\\user.py:160\u001b[0m, in \u001b[0;36mUserMixin.user_info_by_username_v1\u001b[1;34m(self, username)\u001b[0m\n\u001b[0;32m    158\u001b[0m username \u001b[38;5;241m=\u001b[39m \u001b[38;5;28mstr\u001b[39m(username)\u001b[38;5;241m.\u001b[39mlower()\n\u001b[0;32m    159\u001b[0m \u001b[38;5;28;01mtry\u001b[39;00m:\n\u001b[1;32m--> 160\u001b[0m     result \u001b[38;5;241m=\u001b[39m \u001b[38;5;28;43mself\u001b[39;49m\u001b[38;5;241;43m.\u001b[39;49m\u001b[43mprivate_request\u001b[49m\u001b[43m(\u001b[49m\u001b[38;5;124;43mf\u001b[39;49m\u001b[38;5;124;43m\"\u001b[39;49m\u001b[38;5;124;43musers/\u001b[39;49m\u001b[38;5;132;43;01m{\u001b[39;49;00m\u001b[43musername\u001b[49m\u001b[38;5;132;43;01m}\u001b[39;49;00m\u001b[38;5;124;43m/usernameinfo/\u001b[39;49m\u001b[38;5;124;43m\"\u001b[39;49m\u001b[43m)\u001b[49m\n\u001b[0;32m    161\u001b[0m \u001b[38;5;28;01mexcept\u001b[39;00m ClientNotFoundError \u001b[38;5;28;01mas\u001b[39;00m e:\n\u001b[0;32m    162\u001b[0m     \u001b[38;5;28;01mraise\u001b[39;00m UserNotFound(e, username\u001b[38;5;241m=\u001b[39musername, \u001b[38;5;241m*\u001b[39m\u001b[38;5;241m*\u001b[39m\u001b[38;5;28mself\u001b[39m\u001b[38;5;241m.\u001b[39mlast_json)\n",
      "File \u001b[1;32m~\\miniconda3\\lib\\site-packages\\instagrapi\\mixins\\private.py:447\u001b[0m, in \u001b[0;36mPrivateRequestMixin.private_request\u001b[1;34m(self, endpoint, data, params, login, with_signature, headers, extra_sig)\u001b[0m\n\u001b[0;32m    445\u001b[0m     \u001b[38;5;28mself\u001b[39m\u001b[38;5;241m.\u001b[39mchallenge_resolve(\u001b[38;5;28mself\u001b[39m\u001b[38;5;241m.\u001b[39mlast_json)\n\u001b[0;32m    446\u001b[0m \u001b[38;5;28;01melse\u001b[39;00m:\n\u001b[1;32m--> 447\u001b[0m     \u001b[38;5;28;01mraise\u001b[39;00m e\n\u001b[0;32m    448\u001b[0m \u001b[38;5;28;01mif\u001b[39;00m login \u001b[38;5;129;01mand\u001b[39;00m \u001b[38;5;28mself\u001b[39m\u001b[38;5;241m.\u001b[39muser_id:\n\u001b[0;32m    449\u001b[0m     \u001b[38;5;66;03m# After challenge resolve return last_json\u001b[39;00m\n\u001b[0;32m    450\u001b[0m     \u001b[38;5;28;01mreturn\u001b[39;00m \u001b[38;5;28mself\u001b[39m\u001b[38;5;241m.\u001b[39mlast_json\n",
      "File \u001b[1;32m~\\miniconda3\\lib\\site-packages\\instagrapi\\mixins\\private.py:434\u001b[0m, in \u001b[0;36mPrivateRequestMixin.private_request\u001b[1;34m(self, endpoint, data, params, login, with_signature, headers, extra_sig)\u001b[0m\n\u001b[0;32m    432\u001b[0m         random_delay(delay_range\u001b[38;5;241m=\u001b[39m\u001b[38;5;28mself\u001b[39m\u001b[38;5;241m.\u001b[39mdelay_range)\n\u001b[0;32m    433\u001b[0m     \u001b[38;5;28mself\u001b[39m\u001b[38;5;241m.\u001b[39mprivate_requests_count \u001b[38;5;241m+\u001b[39m\u001b[38;5;241m=\u001b[39m \u001b[38;5;241m1\u001b[39m\n\u001b[1;32m--> 434\u001b[0m     \u001b[38;5;28mself\u001b[39m\u001b[38;5;241m.\u001b[39m_send_private_request(endpoint, \u001b[38;5;241m*\u001b[39m\u001b[38;5;241m*\u001b[39mkwargs)\n\u001b[0;32m    435\u001b[0m \u001b[38;5;28;01mexcept\u001b[39;00m ClientRequestTimeout:\n\u001b[0;32m    436\u001b[0m     \u001b[38;5;28mself\u001b[39m\u001b[38;5;241m.\u001b[39mlogger\u001b[38;5;241m.\u001b[39minfo(\u001b[38;5;124m'\u001b[39m\u001b[38;5;124mWait 60 seconds and try one more time (ClientRequestTimeout)\u001b[39m\u001b[38;5;124m'\u001b[39m)\n",
      "File \u001b[1;32m~\\miniconda3\\lib\\site-packages\\instagrapi\\mixins\\private.py:323\u001b[0m, in \u001b[0;36mPrivateRequestMixin._send_private_request\u001b[1;34m(self, endpoint, data, params, login, with_signature, headers, extra_sig)\u001b[0m\n\u001b[0;32m    321\u001b[0m \u001b[38;5;28;01mif\u001b[39;00m e\u001b[38;5;241m.\u001b[39mresponse\u001b[38;5;241m.\u001b[39mstatus_code \u001b[38;5;241m==\u001b[39m \u001b[38;5;241m403\u001b[39m:\n\u001b[0;32m    322\u001b[0m     \u001b[38;5;28;01mif\u001b[39;00m message \u001b[38;5;241m==\u001b[39m \u001b[38;5;124m\"\u001b[39m\u001b[38;5;124mlogin_required\u001b[39m\u001b[38;5;124m\"\u001b[39m:\n\u001b[1;32m--> 323\u001b[0m         \u001b[38;5;28;01mraise\u001b[39;00m LoginRequired(response\u001b[38;5;241m=\u001b[39me\u001b[38;5;241m.\u001b[39mresponse, \u001b[38;5;241m*\u001b[39m\u001b[38;5;241m*\u001b[39mlast_json)\n\u001b[0;32m    324\u001b[0m     \u001b[38;5;28;01mif\u001b[39;00m \u001b[38;5;28mlen\u001b[39m(e\u001b[38;5;241m.\u001b[39mresponse\u001b[38;5;241m.\u001b[39mtext) \u001b[38;5;241m<\u001b[39m \u001b[38;5;241m512\u001b[39m:\n\u001b[0;32m    325\u001b[0m         last_json[\u001b[38;5;124m'\u001b[39m\u001b[38;5;124mmessage\u001b[39m\u001b[38;5;124m'\u001b[39m] \u001b[38;5;241m=\u001b[39m e\u001b[38;5;241m.\u001b[39mresponse\u001b[38;5;241m.\u001b[39mtext\n",
      "\u001b[1;31mLoginRequired\u001b[0m: login_required"
     ]
    }
   ],
   "source": [
    "obtener_seguidores('mati_codo')"
   ]
  },
  {
   "cell_type": "markdown",
   "id": "fe3c9eac",
   "metadata": {},
   "source": [
    "## Otra api"
   ]
  },
  {
   "cell_type": "code",
   "execution_count": 13,
   "id": "bf33a83d",
   "metadata": {},
   "outputs": [
    {
     "name": "stdout",
     "output_type": "stream",
     "text": [
      "C:\\Users\\Felipe\\Desktop\\Proyectos\\IG Scapping\n"
     ]
    }
   ],
   "source": [
    "import os"
   ]
  },
  {
   "cell_type": "code",
   "execution_count": null,
   "id": "8ff3edb7",
   "metadata": {},
   "outputs": [],
   "source": []
  },
  {
   "cell_type": "code",
   "execution_count": null,
   "id": "4b4745bc",
   "metadata": {},
   "outputs": [],
   "source": []
  },
  {
   "cell_type": "code",
   "execution_count": null,
   "id": "7d96778b",
   "metadata": {},
   "outputs": [],
   "source": []
  },
  {
   "cell_type": "code",
   "execution_count": null,
   "id": "8423a3bf",
   "metadata": {},
   "outputs": [],
   "source": []
  },
  {
   "cell_type": "code",
   "execution_count": null,
   "id": "70aad5a6",
   "metadata": {},
   "outputs": [],
   "source": []
  }
 ],
 "metadata": {
  "kernelspec": {
   "display_name": "Python 3 (ipykernel)",
   "language": "python",
   "name": "python3"
  },
  "language_info": {
   "codemirror_mode": {
    "name": "ipython",
    "version": 3
   },
   "file_extension": ".py",
   "mimetype": "text/x-python",
   "name": "python",
   "nbconvert_exporter": "python",
   "pygments_lexer": "ipython3",
   "version": "3.9.12"
  }
 },
 "nbformat": 4,
 "nbformat_minor": 5
}
