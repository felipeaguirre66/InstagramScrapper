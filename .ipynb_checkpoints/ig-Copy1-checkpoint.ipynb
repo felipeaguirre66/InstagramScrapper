{
 "cells": [
  {
   "cell_type": "code",
   "execution_count": 499,
   "id": "e95a231e",
   "metadata": {},
   "outputs": [],
   "source": [
    "# usuario de ejemplo\n",
    "usuario_ejemplo = 'mauriciomacri'"
   ]
  },
  {
   "cell_type": "code",
   "execution_count": 500,
   "id": "787b225e",
   "metadata": {},
   "outputs": [
    {
     "name": "stdout",
     "output_type": "stream",
     "text": [
      "Requirement already satisfied: selenium in c:\\users\\felipe\\miniconda3\\lib\\site-packages (3.141.0)\n",
      "Requirement already satisfied: urllib3 in c:\\users\\felipe\\miniconda3\\lib\\site-packages (from selenium) (1.26.2)\n",
      "Requirement already satisfied: webdriver-manager in c:\\users\\felipe\\miniconda3\\lib\\site-packages (3.2.2)\n",
      "Requirement already satisfied: configparser in c:\\users\\felipe\\miniconda3\\lib\\site-packages (from webdriver-manager) (5.0.1)\n",
      "Requirement already satisfied: crayons in c:\\users\\felipe\\miniconda3\\lib\\site-packages (from webdriver-manager) (0.4.0)\n",
      "Requirement already satisfied: requests in c:\\users\\felipe\\miniconda3\\lib\\site-packages (from webdriver-manager) (2.25.1)\n",
      "Requirement already satisfied: colorama in c:\\users\\felipe\\miniconda3\\lib\\site-packages (from crayons->webdriver-manager) (0.4.4)\n",
      "Requirement already satisfied: urllib3<1.27,>=1.21.1 in c:\\users\\felipe\\miniconda3\\lib\\site-packages (from requests->webdriver-manager) (1.26.2)\n",
      "Requirement already satisfied: certifi>=2017.4.17 in c:\\users\\felipe\\miniconda3\\lib\\site-packages (from requests->webdriver-manager) (2020.12.5)\n",
      "Requirement already satisfied: chardet<5,>=3.0.2 in c:\\users\\felipe\\miniconda3\\lib\\site-packages (from requests->webdriver-manager) (4.0.0)\n",
      "Requirement already satisfied: idna<3,>=2.5 in c:\\users\\felipe\\miniconda3\\lib\\site-packages (from requests->webdriver-manager) (2.10)\n"
     ]
    }
   ],
   "source": [
    "import os\n",
    "!pip install selenium\n",
    "from selenium import webdriver\n",
    "from selenium.webdriver.common.keys import Keys\n",
    "import time\n",
    "from time import sleep\n",
    "from selenium.webdriver.chrome.options import Options\n",
    "chrome_options = Options()\n",
    "chrome_options.headless = True\n",
    "!pip install webdriver-manager\n",
    "from webdriver_manager.chrome import ChromeDriverManager"
   ]
  },
  {
   "cell_type": "code",
   "execution_count": 501,
   "id": "b6767b92",
   "metadata": {},
   "outputs": [
    {
     "name": "stderr",
     "output_type": "stream",
     "text": [
      "[WDM] - Current google-chrome version is 103.0.5060\n",
      "[WDM] - Get LATEST driver version for 103.0.5060\n"
     ]
    },
    {
     "name": "stdout",
     "output_type": "stream",
     "text": [
      " \n"
     ]
    },
    {
     "name": "stderr",
     "output_type": "stream",
     "text": [
      "[WDM] - Driver [C:\\Users\\Felipe\\.wdm\\drivers\\chromedriver\\win32\\103.0.5060.134\\chromedriver.exe] found in cache\n"
     ]
    }
   ],
   "source": [
    "navegacion_con_headers = False\n",
    "\n",
    "if navegacion_con_headers == True:\n",
    "    # instanciamos webdriver\n",
    "    driver = webdriver.Chrome(ChromeDriverManager().install())\n",
    "else:\n",
    "    driver = webdriver.Chrome(ChromeDriverManager().install(), options=chrome_options)"
   ]
  },
  {
   "cell_type": "code",
   "execution_count": 502,
   "id": "8ddc6821",
   "metadata": {},
   "outputs": [],
   "source": [
    "# Credenciales\n",
    "user = \"proyectoredargentina\"\n",
    "password = \"redinstagram2022\""
   ]
  },
  {
   "cell_type": "code",
   "execution_count": 503,
   "id": "073ffe93",
   "metadata": {},
   "outputs": [],
   "source": [
    "# ir a instagram.com\n",
    "driver.get('https://instagram.com/')\n",
    "sleep(3)"
   ]
  },
  {
   "cell_type": "code",
   "execution_count": 504,
   "id": "42ef1946",
   "metadata": {},
   "outputs": [],
   "source": [
    "# poner usuario\n",
    "username = driver.find_element('name','username')\n",
    "sleep(1)\n",
    "username.click()\n",
    "sleep(1)\n",
    "username.send_keys(user)\n",
    "sleep(1)"
   ]
  },
  {
   "cell_type": "code",
   "execution_count": 505,
   "id": "6448079e",
   "metadata": {},
   "outputs": [],
   "source": [
    "# poner contraseña\n",
    "pw = driver.find_element('name','password')\n",
    "sleep(2)\n",
    "pw.click()\n",
    "sleep(2)\n",
    "pw.send_keys(password)\n",
    "sleep(2)"
   ]
  },
  {
   "cell_type": "code",
   "execution_count": 506,
   "id": "9515148a",
   "metadata": {},
   "outputs": [],
   "source": [
    "# login\n",
    "login = driver.find_element('xpath','//div[text() = \"Iniciar sesión\"]')\n",
    "sleep(2)\n",
    "login.click()\n",
    "sleep(4)"
   ]
  },
  {
   "cell_type": "code",
   "execution_count": 507,
   "id": "e84781e3",
   "metadata": {},
   "outputs": [],
   "source": [
    "# recordar datos\n",
    "try:\n",
    "    info_sesion = driver.find_element('xpath','//*[text() = \"Guardar información\"]')\n",
    "    sleep(1)\n",
    "    info_sesion.click()\n",
    "    sleep(2)\n",
    "except:\n",
    "    pass"
   ]
  },
  {
   "cell_type": "code",
   "execution_count": 508,
   "id": "10bed508",
   "metadata": {},
   "outputs": [],
   "source": [
    "# sortear cartel de recibir notificaciones\n",
    "try:\n",
    "    recibir_not = driver.find_element('xpath','//*[text() = \"Ahora no\"]')\n",
    "    sleep(1)\n",
    "    recibir_not.click()\n",
    "except:\n",
    "    pass"
   ]
  },
  {
   "cell_type": "code",
   "execution_count": 509,
   "id": "40df3ea0",
   "metadata": {},
   "outputs": [],
   "source": [
    "# ir a buscador y colocar usuario\n",
    "buscador = driver.find_element('xpath',\"//input[@placeholder='Buscar']\")\n",
    "sleep(1)\n",
    "buscador.send_keys(usuario_ejemplo)\n",
    "sleep(2)"
   ]
  },
  {
   "cell_type": "code",
   "execution_count": 510,
   "id": "9d278e2b",
   "metadata": {},
   "outputs": [],
   "source": [
    "# Obtener url del primer usuario\n",
    "urls = driver.find_elements('xpath',\"//div[@role='none']//a\")\n",
    "url_usuario = urls[0].get_attribute('href')"
   ]
  },
  {
   "cell_type": "code",
   "execution_count": 511,
   "id": "9b8294a9",
   "metadata": {},
   "outputs": [],
   "source": [
    "# # SEGUIDOS\n",
    "# # Entrar al usuario\n",
    "# driver.get(url_usuario)\n",
    "# sleep(8)\n",
    "\n",
    "# # Acceder a seguidos\n",
    "# seguidos_boton = driver.find_element('xpath',\"//ul[@class='_aa_7']/li[3]//span\")\n",
    "# seguidos_boton.click()\n",
    "# sleep(3)\n",
    "\n",
    "# # cantidad de seguidos\n",
    "# can_seguidos = driver.find_element('xpath',\"//ul[@class='_aa_7']/li[3]//span\").text\n",
    "# if '.' in can_seguidos:\n",
    "#     cantidad_decimal = len(can_seguidos.split('.')[-1][:-1])\n",
    "# else:\n",
    "#     cantidad_decimal = 0\n",
    "# can_seguidos = int(can_seguidos.replace('k','0'*(3-cantidad_decimal)).replace('M','0'*(6-cantidad_decimal)).replace('.',''))\n",
    "\n",
    "# # cuanto hay que scrollear\n",
    "# scrollear_inicial = round(can_seguidos/12)+1\n",
    "\n",
    "# # instanciamos seguidores_total\n",
    "# seguidos_total = []\n",
    "\n",
    "# # scrollear y apendear\n",
    "# for i in range(scrollear_inicial):\n",
    "    \n",
    "#     # Print\n",
    "#     print(f'scrolleando {i} de {scrollear_inicial}')\n",
    "    \n",
    "#     # croll down\n",
    "#     driver.execute_script(\"\"\"\n",
    "#         var scrollt = document.querySelector('div[role=\"dialog\"] ._aano')\n",
    "#         scrollt.scrollTop = scrollt.scrollHeight\n",
    "#         \"\"\")\n",
    "    \n",
    "#     # Nuevos seguidores\n",
    "#     seguidos = driver.find_elements('xpath',f\"(//div[@class='_aae-']/li)[position()>={len(seguidos_total)}]//*/a\")\n",
    "#     seguidos = [u.text for u in seguidos if len(u.text)>0]\n",
    "    \n",
    "#     # agregamos los nuevos seguidores\n",
    "#     seguidos_total.extend(seguidos)\n",
    "#     print(f'Se han encontrado {len(seguidos_total)} usuarios\\n')\n",
    "\n",
    "#     time.sleep(3)"
   ]
  },
  {
   "cell_type": "code",
   "execution_count": null,
   "id": "1aca46fe",
   "metadata": {},
   "outputs": [
    {
     "name": "stdout",
     "output_type": "stream",
     "text": [
      "Scrolleando 1 de 91668\n",
      "Hasta le momento, se han encontrado 12 usuarios (deberian haber 12 osea faltan 0)\n",
      "\n",
      "Scrolleando 2 de 91668\n",
      "Hasta le momento, se han encontrado 25 usuarios (deberian haber 24 osea faltan -1)\n",
      "\n",
      "Scrolleando 3 de 91668\n",
      "Hasta le momento, se han encontrado 37 usuarios (deberian haber 36 osea faltan -1)\n",
      "\n",
      "Scrolleando 4 de 91668\n",
      "Hasta le momento, se han encontrado 49 usuarios (deberian haber 48 osea faltan -1)\n",
      "\n",
      "Scrolleando 5 de 91668\n",
      "Hasta le momento, se han encontrado 61 usuarios (deberian haber 60 osea faltan -1)\n",
      "\n",
      "Scrolleando 6 de 91668\n",
      "Hasta le momento, se han encontrado 73 usuarios (deberian haber 72 osea faltan -1)\n",
      "\n",
      "Scrolleando 7 de 91668\n",
      "Hasta le momento, se han encontrado 85 usuarios (deberian haber 84 osea faltan -1)\n",
      "\n",
      "Scrolleando 8 de 91668\n",
      "Hasta le momento, se han encontrado 97 usuarios (deberian haber 96 osea faltan -1)\n",
      "\n",
      "Scrolleando 9 de 91668\n",
      "Hasta le momento, se han encontrado 109 usuarios (deberian haber 108 osea faltan -1)\n",
      "\n",
      "Scrolleando 10 de 91668\n",
      "Hasta le momento, se han encontrado 121 usuarios (deberian haber 120 osea faltan -1)\n",
      "\n",
      "Scrolleando 11 de 91668\n",
      "Hasta le momento, se han encontrado 133 usuarios (deberian haber 132 osea faltan -1)\n",
      "\n",
      "Scrolleando 12 de 91668\n",
      "Hasta le momento, se han encontrado 145 usuarios (deberian haber 144 osea faltan -1)\n",
      "\n",
      "Scrolleando 13 de 91668\n",
      "Hasta le momento, se han encontrado 157 usuarios (deberian haber 156 osea faltan -1)\n",
      "\n",
      "Scrolleando 14 de 91668\n",
      "Hasta le momento, se han encontrado 169 usuarios (deberian haber 168 osea faltan -1)\n",
      "\n",
      "Scrolleando 15 de 91668\n",
      "Hasta le momento, se han encontrado 181 usuarios (deberian haber 180 osea faltan -1)\n",
      "\n",
      "Scrolleando 16 de 91668\n",
      "Hasta le momento, se han encontrado 193 usuarios (deberian haber 192 osea faltan -1)\n",
      "\n",
      "Scrolleando 17 de 91668\n",
      "Hasta le momento, se han encontrado 205 usuarios (deberian haber 204 osea faltan -1)\n",
      "\n",
      "Scrolleando 18 de 91668\n",
      "Hasta le momento, se han encontrado 217 usuarios (deberian haber 216 osea faltan -1)\n",
      "\n",
      "Scrolleando 19 de 91668\n",
      "Hasta le momento, se han encontrado 229 usuarios (deberian haber 228 osea faltan -1)\n",
      "\n",
      "Scrolleando 20 de 91668\n",
      "Hasta le momento, se han encontrado 241 usuarios (deberian haber 240 osea faltan -1)\n",
      "\n",
      "Scrolleando 21 de 91668\n",
      "Hasta le momento, se han encontrado 253 usuarios (deberian haber 252 osea faltan -1)\n",
      "\n",
      "Scrolleando 22 de 91668\n",
      "Hasta le momento, se han encontrado 265 usuarios (deberian haber 264 osea faltan -1)\n",
      "\n",
      "Scrolleando 23 de 91668\n",
      "Hasta le momento, se han encontrado 277 usuarios (deberian haber 276 osea faltan -1)\n",
      "\n",
      "Scrolleando 24 de 91668\n",
      "Hasta le momento, se han encontrado 289 usuarios (deberian haber 288 osea faltan -1)\n",
      "\n",
      "Scrolleando 25 de 91668\n",
      "Hasta le momento, se han encontrado 301 usuarios (deberian haber 300 osea faltan -1)\n",
      "\n",
      "Scrolleando 26 de 91668\n",
      "Hasta le momento, se han encontrado 313 usuarios (deberian haber 312 osea faltan -1)\n",
      "\n",
      "Scrolleando 27 de 91668\n",
      "Hasta le momento, se han encontrado 325 usuarios (deberian haber 324 osea faltan -1)\n",
      "\n",
      "Scrolleando 28 de 91668\n",
      "Hasta le momento, se han encontrado 337 usuarios (deberian haber 336 osea faltan -1)\n",
      "\n"
     ]
    }
   ],
   "source": [
    "# SEGUIDORES\n",
    "# Entrar al usuario\n",
    "driver.get(url_usuario)\n",
    "sleep(8)\n",
    "\n",
    "# Acceder a seguidores\n",
    "seguidores_boton = driver.find_element('xpath',\"//ul[@class='_aa_7']/li[2]//span\")\n",
    "seguidores_boton.click()\n",
    "sleep(3)\n",
    "\n",
    "# cantidad de seguidores\n",
    "can_seguidores = driver.find_element('xpath',\"//ul[@class='_aa_7']/li[2]//span\").text\n",
    "if '.' in can_seguidores:\n",
    "    cantidad_decimal = len(can_seguidores.split('.')[-1][:-1])\n",
    "else:\n",
    "    cantidad_decimal = 0\n",
    "can_seguidores = int(can_seguidores.replace('k','0'*(3-cantidad_decimal)).replace('M','0'*(6-cantidad_decimal)).replace('.',''))\n",
    "\n",
    "# cuanto hay que scrollear\n",
    "scrollear_inicial = round(can_seguidores/12)+1\n",
    "\n",
    "# instanciamos seguidores_total\n",
    "seguidores_total = []\n",
    "\n",
    "# scrollear y apendear\n",
    "for i in range(scrollear_inicial):\n",
    "    i += 1\n",
    "    \n",
    "    # Print\n",
    "    print(f'Scrolleando {i} de {scrollear_inicial}')\n",
    "    \n",
    "    # croll down\n",
    "    driver.execute_script(\"\"\"\n",
    "        var scrollt = document.querySelector('div[role=\"dialog\"] ._aano')\n",
    "        scrollt.scrollTop = scrollt.scrollHeight\n",
    "        \"\"\")\n",
    "    \n",
    "    # Nuevos seguidores\n",
    "    seguidores = driver.find_elements('xpath',f\"(//div[@class='_aae-']/li)[position()>={len(seguidores_total)}]//*/a\")\n",
    "    seguidores = [u.text for u in seguidores if len(u.text)>0]\n",
    "    \n",
    "    # agregamos los nuevos seguidores\n",
    "    seguidores_total.extend(seguidores)\n",
    "    print(f'Hasta el momento, se han encontrado {len(seguidores_total)} usuarios (deberian haber {i*12} osea faltan {i*12 -len(seguidores_total)})\\n')\n",
    "\n",
    "    time.sleep(3)"
   ]
  }
 ],
 "metadata": {
  "kernelspec": {
   "display_name": "Python 3 (ipykernel)",
   "language": "python",
   "name": "python3"
  },
  "language_info": {
   "codemirror_mode": {
    "name": "ipython",
    "version": 3
   },
   "file_extension": ".py",
   "mimetype": "text/x-python",
   "name": "python",
   "nbconvert_exporter": "python",
   "pygments_lexer": "ipython3",
   "version": "3.9.12"
  }
 },
 "nbformat": 4,
 "nbformat_minor": 5
}
